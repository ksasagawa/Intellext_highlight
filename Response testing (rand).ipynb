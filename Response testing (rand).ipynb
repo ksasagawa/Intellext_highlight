{
 "cells": [
  {
   "cell_type": "code",
   "execution_count": null,
   "id": "f2a40fcb",
   "metadata": {},
   "outputs": [],
   "source": [
    "import openai\n",
    "import os \n",
    "from random import randint\n",
    "import pandas as pd\n",
    "\n",
    "UPPER_LIMIT = 1 #NUMBER OF LOOP RUNS\n",
    "GPT_MODEL = \"gpt-3.5-turbo\" #GPT model to use, change to \"gpt-4-turbo\" for better performance\n",
    "LOGGING = False #Write to document "
   ]
  },
  {
   "cell_type": "code",
   "execution_count": null,
   "id": "b4cad0c7",
   "metadata": {},
   "outputs": [],
   "source": [
    "client = openai.OpenAI()\n",
    "openai.api_key = os.getenv(\"OPENAI_API_KEY\")\n",
    "\n",
    "for i in range (0,UPPER_LIMIT):\n",
    "    lst = os.listdir(\"CUAD_v1\\\\label_group_xlsx\") #Retrieve random category from CUAD dataset\n",
    "    rand_category = lst[randint(0,len(lst)-1)]\n",
    "    print(rand_category)\n",
    "    xlsx = pd.read_excel('CUAD_v1\\\\label_group_xlsx\\\\' + rand_category) #import excel to dataframe\n",
    "    randint1 = randint(0, len(xlsx['Filename']) - 1)\n",
    "    randint2 = randint(0, len(xlsx['Filename']) - 1)\n",
    "    cont1 = xlsx['Filename'][randint1] #retrieve random contract filenames in txt\n",
    "    cont2 = xlsx['Filename'][randint2]\n",
    "    cont1 = cont1[:-3].replace(\"&\", \"_\") + \"txt\"\n",
    "    cont2 = cont2[:-3].replace(\"&\", \"_\") + \"txt\"\n",
    "    print(cont1[:10], cont2[:10])\n",
    "    cont1TXT = ''\n",
    "    cont2TXT = ''\n",
    "    with open('CUAD_v1\\\\full_contract_txt\\\\' + cont1, \"r\", encoding='utf8') as out: cont1TXT = out.read() #contract text out\n",
    "    with open('CUAD_v1\\\\full_contract_txt\\\\' + cont2, \"r\", encoding='utf8') as out: cont2TXT = out.read()   \n",
    "    \n",
    "    #Create GPT instance and prompt with \"Name the clauses that differ between these two documents: \"\n",
    "    messages=[]\n",
    "    completion = client.chat.completions.create(\n",
    "        model=GPT_MODEL,\n",
    "        messages=[\n",
    "            {\"role\": \"system\", \"content\": \"You are a legal assistant, designed to simplify and highlight differences between legal documents.\"},\n",
    "            {\"role\": \"user\", \"content\": \".\"}\n",
    "        ]\n",
    "    )\n",
    "    #Contract prompt\n",
    "    messages.append({\"role\": \"user\", \"content\": (\"Name the clauses that differ between these two documents: \" + cont1TXT\n",
    "    + \"\\n\" + cont2TXT)})\n",
    "    #print response\n",
    "    print(completion.choices[0].message)\n",
    "    if Logging:\n",
    "        with open('outputs.txt', 'a') as out:\n",
    "            out.writelines(list(messages.values))\n",
    "            out.write('\\n')\n",
    "    print(list(messages))\n"
   ]
  },
  {
   "cell_type": "code",
   "execution_count": null,
   "id": "89a68746",
   "metadata": {},
   "outputs": [],
   "source": []
  }
 ],
 "metadata": {
  "kernelspec": {
   "display_name": "Python 3 (ipykernel)",
   "language": "python",
   "name": "python3"
  },
  "language_info": {
   "codemirror_mode": {
    "name": "ipython",
    "version": 3
   },
   "file_extension": ".py",
   "mimetype": "text/x-python",
   "name": "python",
   "nbconvert_exporter": "python",
   "pygments_lexer": "ipython3",
   "version": "3.10.9"
  }
 },
 "nbformat": 4,
 "nbformat_minor": 5
}
