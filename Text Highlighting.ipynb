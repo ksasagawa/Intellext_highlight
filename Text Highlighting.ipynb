{
 "cells": [
  {
   "cell_type": "code",
   "execution_count": null,
   "id": "3b943c81",
   "metadata": {},
   "outputs": [],
   "source": [
    "#imports\n",
    "import openai\n",
    "import os\n",
    "client = openai.OpenAI()\n",
    "openai.api_key = os.getenv(\"OPENAI_API_KEY\")\n",
    "print(openai.api_key)"
   ]
  },
  {
   "cell_type": "markdown",
   "id": "64429ea9",
   "metadata": {},
   "source": [
    "Taking into account token limits, the plan is to have the Cx paste documents into the chat, then the bot will summarize them and highlight differences."
   ]
  },
  {
   "cell_type": "code",
   "execution_count": null,
   "id": "924b5edb",
   "metadata": {},
   "outputs": [],
   "source": [
    "#user chat loop\n",
    "messages=[]\n",
    "completion = client.chat.completions.create(\n",
    "  model=\"gpt-3.5-turbo\",\n",
    "  messages=[\n",
    "    {\"role\": \"system\", \"content\": \"You are a legal assistant, designed to simplify and highlight differences between legal documents.\"},\n",
    "    {\"role\": \"user\", \"content\": \".\"}\n",
    "  ]\n",
    ")\n",
    "\n",
    "resp = ''\n",
    "while True:\n",
    "    resp = input()\n",
    "    if resp.lower() == 'stop' or resp.lower() == 'exit': break\n",
    "    \n",
    "    messages.append({\"role\": \"user\", \"content\": resp})\n",
    "    print(completion.choices[0].message)\n",
    "    \n",
    "with open('outputs.txt', 'a') as out:\n",
    "    print(list(messages.values))\n",
    "    #out.writelines(list(messages.values)\n",
    "    #out.write('\\n')\n",
    "    "
   ]
  },
  {
   "cell_type": "code",
   "execution_count": 13,
   "id": "bd95f382",
   "metadata": {},
   "outputs": [
    {
     "name": "stdout",
     "output_type": "stream",
     "text": [
      "                                                provision  \\\n",
      "0       Section and Subsection headings in this Amendm...   \n",
      "1       THIS AMENDMENT AND THE RIGHTS AND OBLIGATIONS ...   \n",
      "2       This Amendment may be executed in any number o...   \n",
      "3       The execution and delivery of this Amendment b...   \n",
      "4       Each of the parties hereto irrevocably waives ...   \n",
      "...                                                   ...   \n",
      "846269  Except as expressly provided in this Amendment...   \n",
      "846270  This Amendment shall be a contract made under ...   \n",
      "846271  This Amendment may be executed in any number o...   \n",
      "846272  This Amendment shall be binding upon and shall...   \n",
      "846273  Any reference to the Credit Agreement or the S...   \n",
      "\n",
      "                          label  \\\n",
      "0                    [headings]   \n",
      "1             [applicable laws]   \n",
      "2                [counterparts]   \n",
      "3             [binding effects]   \n",
      "4       [waiver of jury trials]   \n",
      "...                         ...   \n",
      "846269         [loan documents]   \n",
      "846270         [governing laws]   \n",
      "846271           [counterparts]   \n",
      "846272    [assigns, successors]   \n",
      "846273             [references]   \n",
      "\n",
      "                                                source  \n",
      "0       2019/QTR1/000119312519044328/d691151dex101.htm  \n",
      "1       2019/QTR1/000119312519044328/d691151dex101.htm  \n",
      "2       2019/QTR1/000119312519044328/d691151dex101.htm  \n",
      "3       2019/QTR1/000119312519044328/d691151dex101.htm  \n",
      "4       2019/QTR1/000119312519044328/d691151dex101.htm  \n",
      "...                                                ...  \n",
      "846269  2016/QTR4/000119312516760177/d257400dex102.htm  \n",
      "846270  2016/QTR4/000119312516760177/d257400dex102.htm  \n",
      "846271  2016/QTR4/000119312516760177/d257400dex102.htm  \n",
      "846272  2016/QTR4/000119312516760177/d257400dex102.htm  \n",
      "846273  2016/QTR4/000119312516760177/d257400dex102.htm  \n",
      "\n",
      "[846274 rows x 3 columns]\n"
     ]
    }
   ],
   "source": [
    "import pandas as pd\n",
    "import json\n",
    "#LEDGAR dataset load/parse\n",
    "lines = []\n",
    "with open(r'LEDGAR_2016-2019_clean.jsonl', encoding='utf8') as line:\n",
    "    lines = line.read().splitlines()\n",
    "\n",
    "line_dicts = [json.loads(line) for line in lines]\n",
    "df_final = pd.DataFrame(line_dicts)\n",
    "\n",
    "print(df_final)"
   ]
  },
  {
   "cell_type": "code",
   "execution_count": 20,
   "id": "40f4bd8e",
   "metadata": {},
   "outputs": [
    {
     "name": "stdout",
     "output_type": "stream",
     "text": [
      "['2019/QTR1/000119312519044328/d691151dex101.htm'\n",
      " '2019/QTR1/000110465919016051/a19-6809_1ex10d2.htm'\n",
      " '2019/QTR1/000110465919016051/a19-6809_1ex10d1.htm' ...\n",
      " '2016/QTR4/000155837016010506/iret-20161031ex10171ea91.htm'\n",
      " '2016/QTR4/000119312516733212/d260489dex101.htm'\n",
      " '2016/QTR4/000119312516760177/d257400dex102.htm']\n"
     ]
    }
   ],
   "source": [
    "print(df_final.source.unique())"
   ]
  },
  {
   "cell_type": "code",
   "execution_count": 40,
   "id": "5da79056",
   "metadata": {},
   "outputs": [
    {
     "name": "stdout",
     "output_type": "stream",
     "text": [
      "5000\n",
      "10000\n",
      "15000\n",
      "20000\n",
      "25000\n",
      "30000\n",
      "35000\n",
      "40000\n",
      "45000\n",
      "['Notwithstanding anything to the contrary contained herein, if at any time Bank of America assigns all of its Commitment and Loans pursuant to Section\\xa010.6(c), Bank of America upon 45 days’ notice to Borrower and the Lenders, may resign as the L/C Issuer. In the event of any such resignation as the L/C Issuer, Borrower shall be entitled to appoint from among the Lenders a successor L/C Issuer hereunder; provided , however , that no failure by Borrower to appoint any such successor shall affect the resignation of Bank of America as the L/C Issuer. If Bank of America resigns as the L/C Issuer, it shall retain all the rights, powers, privileges and duties of the L/C Issuer hereunder with respect to all Letters of Credit issued by it and outstanding, as of the effective date of its resignation as the L/C Issuer, and all L/C Obligations with respect thereto (including the right to require the Lenders to make Base Rate Loans or fund risk participations in Unreimbursed Amounts pursuant to Section\\xa02.20(c)). Subject to the previous sentence, upon the appointment of a successor L/C Issuer, (a)\\xa0such successor shall succeed to, and become vested with, all of the rights, powers, privileges and duties of the retiring L/C Issuer and (b)\\xa0the successor L/C Issuer shall issue letters of credit and bankers’ acceptances in substitution for the Letters of Credit, if any, outstanding at the time of such succession or make other arrangements, satisfactory to Bank of America, to effectively assume the obligations of Bank of America with respect to such Letters of Credit. ', 'THE EXECUTIVE ACKNOWLEDGES AND AGREES THAT HE/SHE HAS FULLY READ, UNDERSTANDS AND VOLUNTARILY ENTERS INTO THIS AGREEMENT. THE EXECUTIVE ACKNOWLEDGES AND AGREES THAT HE/SHE HAS A RIGHT TO CONSULT WITH AN ATTORNEY OF HIS OR HER CHOICE BEFORE SIGNING THIS AGREEMENT AND THAT HE/SHE HAS HAD AN OPPORTUNITY TO ASK QUESTIONS AND CONSULT WITH AN ATTORNEY OF HIS OR HER CHOICE BEFORE SIGNING THIS AGREEMENT. ']\n"
     ]
    }
   ],
   "source": [
    "cont = ''\n",
    "conts = []\n",
    "source = ''\n",
    "count = 0\n",
    "for line in df_final.itertuples():\n",
    "    if line.source != source:\n",
    "        conts.append(cont)\n",
    "        cont += line.provision + ' '\n",
    "        source = line.source\n",
    "    else:\n",
    "        cont = ''\n",
    "        cont += line.provision + ' '\n",
    "conts.append(cont)\n",
    "conts == conts[1:]\n",
    "print(conts[:3])"
   ]
  },
  {
   "cell_type": "code",
   "execution_count": 27,
   "id": "406355b0",
   "metadata": {},
   "outputs": [
    {
     "name": "stdout",
     "output_type": "stream",
     "text": [
      "                                            Filename  \\\n",
      "0  CybergyHoldingsInc_20140520_10-Q_EX-10.27_8605...   \n",
      "1  EuromediaHoldingsCorp_20070215_10SB12G_EX-10.B...   \n",
      "2  GopageCorp_20140221_10-K_EX-10.1_8432966_EX-10...   \n",
      "3  IdeanomicsInc_20160330_10-K_EX-10.26_9512211_E...   \n",
      "4  DeltathreeInc_19991102_S-1A_EX-10.19_6227850_E...   \n",
      "\n",
      "                                   Change of Control  \\\n",
      "0                                                NaN   \n",
      "1                                                NaN   \n",
      "2  For purposes of the preceding sentence, and wi...   \n",
      "3                                                NaN   \n",
      "4  The term of this Agreement shall be effective ...   \n",
      "\n",
      "                                     Anti-assignment  \n",
      "0  MA may not assign, sell, lease or otherwise tr...  \n",
      "1  This Agreement may not be assigned, sold or tr...  \n",
      "2  Licensee shall not assign or otherwise transfe...  \n",
      "3  Licensee shall have the right to assign or sub...  \n",
      "4  This Agreement may not be assigned by DeltaThr...  \n",
      "<class 'str'>\n"
     ]
    }
   ],
   "source": [
    "import pandas as pd\n",
    "df = pd.read_excel(\"CUAD_v1\\label_group_xlsx\\Label Report - Anti-assignment, CIC (Group 3).xlsx\")\n",
    "print(df.head())\n",
    "print(type(df['Filename'][0]))"
   ]
  },
  {
   "cell_type": "code",
   "execution_count": 40,
   "id": "3c9fe703",
   "metadata": {},
   "outputs": [
    {
     "name": "stdout",
     "output_type": "stream",
     "text": [
      "Label Report - Revenue-Profit Sharing.xlsx\n",
      "HALITRON,INC_03_01_2005-EX-10.15-SPONSORSHIP AND DEVELOPMENT AGREEMENT.txt SFGFINANCIALCORP_05_12_2009-EX-10.1-SOFTWARE LICENSE AND MAINTENANCE AGREEMENT.txt\n",
      "Label Report - Governing Law.xlsx\n",
      "RMRGROUPINC_01_22_2020-EX-99.1-JOINT FILING AGREEMENT.txt PfHospitalityGroupInc_20150923_10-12G_EX-10.1_9266710_EX-10.1_Franchise Agreement3.txt\n",
      "Label Report - Document Name.xlsx\n",
      "VIVINT SOLAR, INC. - NON-COMPETITION AGREEMENT.txt PlayboyEnterprisesInc_20090220_10-QA_EX-10.2_4091580_EX-10.2_Content License Agreement_ Marketing Agreement_ Sales-Purchase Agreement2.txt\n",
      "Label Report - Price Restrictions.xlsx\n",
      "LIMEENERGYCO_09_09_1999-EX-10-DISTRIBUTOR AGREEMENT.txt ELANDIAINTERNATIONALINC_04_25_2007-EX-10.21-Outsourcing Agreement.txt\n",
      "Label Report - Insurance.xlsx\n",
      "MEDIWOUNDLTD_01_15_2014-EX-10.6-SUPPLY AGREEMENT.txt ScansourceInc_20190822_10-K_EX-10.38_11793958_EX-10.38_Distributor Agreement1.txt\n",
      "Label Report - Licenses (Group 4).xlsx\n",
      "LEGACYTECHNOLOGYHOLDINGS,INC_12_09_2005-EX-10.2-DISTRIBUTOR AGREEMENT.txt Monsanto Company - SECOND A_R EXCLUSIVE AGENCY AND MARKETING AGREEMENT .txt\n",
      "Label Report - Liquidated Damages.xlsx\n",
      "NICELTD_06_26_2003-EX-4.5-OUTSOURCING AGREEMENT.txt Array BioPharma Inc. - LICENSE, DEVELOPMENT AND COMMERCIALIZATION AGREEMENT.txt\n",
      "Label Report - Document Name.xlsx\n",
      "BERKELEYLIGHTS,INC_06_26_2020-EX-10.12-COLLABORATION AGREEMENT.txt RUBIOSRESTAURANTSINC_03_31_2008-EX-10.75-SPONSORSHIP AGREEMENT.txt\n",
      "Label Report - Audit Rights.xlsx\n",
      "DYNTEKINC_07_30_1999-EX-10-ONLINE HOSTING AGREEMENT.txt SENMIAOTECHNOLOGYLTD_02_19_2019-EX-10.5-Collaboration Agreement.txt\n",
      "Label Report - Revenue-Profit Sharing.xlsx\n",
      "NeoformaInc_19991202_S-1A_EX-10.26_5224521_EX-10.26_Co-Branding Agreement.txt ImpresseCorp_20000322_S-1A_EX-10.11_5199234_EX-10.11_Co-Branding Agreement.txt\n",
      "Label Report - Joint IP Ownership.xlsx\n",
      "CERES,INC_01_25_2012-EX-10.20-Collaboration Agreement.txt KIROMICBIOPHARMA,INC_04_08_2020-EX-10.28-JOINT VENTURE AGREEMENT.txt\n",
      "Label Report - Unlimited-All-You-Can-Eat License.xlsx\n",
      "TheglobeComInc_19990503_S-1A_EX-10.20_5416126_EX-10.20_Co-Branding Agreement.txt FulucaiProductionsLtd_20131223_10-Q_EX-10.9_8368347_EX-10.9_Content License Agreement.txt\n",
      "Label Report - Unlimited-All-You-Can-Eat License.xlsx\n",
      "IpassInc_20181203_8-K_EX-99.1_11445874_EX-99.1_Reseller Agreement.txt LifewayFoodsInc_20160316_10-K_EX-10.24_9489766_EX-10.24_Endorsement Agreement.txt\n",
      "Label Report - Licenses (Group 4).xlsx\n",
      "PANDIONTHERAPEUTICSHOLDCOLLC_05_22_2020-EX-10.17-CONSULTING AGREEMENT.txt WHITESMOKE,INC_11_08_2011-EX-10.26-PROMOTION AND DISTRIBUTION AGREEMENT.txt\n",
      "Label Report - Most Favored Nation.xlsx\n",
      "VIRTUALSCOPICS,INC_11_12_2010-EX-10.1-STRATEGIC ALLIANCE AGREEMENT.txt GAINSCOINC_01_21_2010-EX-10.41-SPONSORSHIP AGREEMENT.txt\n"
     ]
    }
   ],
   "source": [
    "import openai\n",
    "import os \n",
    "from random import randint\n",
    "client = openai.OpenAI()\n",
    "openai.api_key = os.getenv(\"OPENAI_API_KEY\")\n",
    "\n",
    "upperlimit = 15\n",
    "for i in range (0,upperlimit):\n",
    "    lst = os.listdir(\"CUAD_v1\\\\label_group_xlsx\")\n",
    "    rand_category = lst[random.randint(0,len(lst)-1)]\n",
    "    print(rand_category)\n",
    "    xlsx = pd.read_excel('CUAD_v1\\\\label_group_xlsx\\\\' + rand_category)\n",
    "    randint1 = randint(0, len(xlsx['Filename']) - 1)\n",
    "    randint2 = randint(0, len(xlsx['Filename']) - 1)\n",
    "    cont1 = xlsx['Filename'][randint1]\n",
    "    cont2 = xlsx['Filename'][randint2]\n",
    "    cont1 = cont1[:-3].replace(\"&\", \"_\") + \"txt\"\n",
    "    cont2 = cont2[:-3].replace(\"&\", \"_\") + \"txt\"\n",
    "    print(cont1, cont2)\n",
    "    cont1TXT = ''\n",
    "    cont2TXT = ''\n",
    "    with open('CUAD_v1\\\\full_contract_txt\\\\' + cont1, \"r\", encoding='utf8') as out: cont1TXT = out.read()\n",
    "    with open('CUAD_v1\\\\full_contract_txt\\\\' + cont2, \"r\", encoding='utf8') as out: cont2TXT = out.read()   \n",
    "    \n",
    "    \n",
    "    completion = client.chat.completions.create(\n",
    "    model=\"gpt-4-turbo-preview\",\n",
    "    messages=[\n",
    "        {\"role\": \"system\", \"content\": \"You are a legal assistant, designed to simplify and highlight differences between legal documents.\"},\n",
    "        {\"role\": \"user\", \"content\": \".\"}\n",
    "    ]\n",
    "    messages.append({\"role\": \"user\", \"content\": \"Name the clauses that differ between these two documents: \" + cont1TXT\n",
    "                    \"\\n\" + cont2TXT})\n",
    "    print(completion.choices[0].message)\n",
    "    with open('outputs.txt', 'a') as out:\n",
    "        out.writelines(messages)\n",
    "        out.write('\\n')\n",
    ")"
   ]
  },
  {
   "cell_type": "code",
   "execution_count": 38,
   "id": "32da5959",
   "metadata": {},
   "outputs": [
    {
     "data": {
      "text/plain": [
       "False"
      ]
     },
     "execution_count": 38,
     "metadata": {},
     "output_type": "execute_result"
    }
   ],
   "source": [
    "\"SightLife Surgical, Inc. - STRATEGIC SALES _ MARKETING AGREEMENT.txt\" == \"SightLife Surgical, Inc. - STRATEGIC SALES & MARKETING AGREEMENT.txt'\""
   ]
  },
  {
   "cell_type": "code",
   "execution_count": null,
   "id": "43fa98f7",
   "metadata": {},
   "outputs": [],
   "source": []
  },
  {
   "cell_type": "code",
   "execution_count": 2,
   "id": "d91b475f",
   "metadata": {},
   "outputs": [],
   "source": [
    "from docx.enum.text import WD_COLOR_INDEX\n",
    "import docx"
   ]
  },
  {
   "cell_type": "code",
   "execution_count": null,
   "id": "35260d56",
   "metadata": {},
   "outputs": [],
   "source": [
    "doc1 = ''\n",
    "doc2 = ''\n",
    "comparisonDocument1 = docx.Document()\n",
    "comparisonDocument2 = docx.Document()\n",
    "for paragraph in document.split('\\n'):\n",
    "    if clauseNumber in paragraph:\n",
    "        comparisonDocument1.add_paragraph(paragraph)"
   ]
  }
 ],
 "metadata": {
  "kernelspec": {
   "display_name": "Python 3 (ipykernel)",
   "language": "python",
   "name": "python3"
  },
  "language_info": {
   "codemirror_mode": {
    "name": "ipython",
    "version": 3
   },
   "file_extension": ".py",
   "mimetype": "text/x-python",
   "name": "python",
   "nbconvert_exporter": "python",
   "pygments_lexer": "ipython3",
   "version": "3.10.9"
  }
 },
 "nbformat": 4,
 "nbformat_minor": 5
}
