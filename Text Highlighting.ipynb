{
 "cells": [
  {
   "cell_type": "code",
   "execution_count": null,
   "id": "3b943c81",
   "metadata": {},
   "outputs": [],
   "source": [
    "#imports\n",
    "import openai\n",
    "import os\n",
    "client = openai.OpenAI()\n",
    "openai.api_key = os.getenv(\"OPENAI_API_KEY\")\n"
   ]
  },
  {
   "cell_type": "markdown",
   "id": "64429ea9",
   "metadata": {},
   "source": [
    "Taking into account token limits, the plan is to have the Cx paste documents into the chat, then the bot will summarize them and highlight differences."
   ]
  },
  {
   "cell_type": "code",
   "execution_count": null,
   "id": "924b5edb",
   "metadata": {},
   "outputs": [],
   "source": [
    "#user chat loop\n",
    "messages=[]\n",
    "completion = client.chat.completions.create(\n",
    "  model=\"gpt-3.5-turbo\",\n",
    "  messages=[\n",
    "    {\"role\": \"system\", \"content\": \"You are a legal assistant, designed to simplify and highlight differences between legal documents.\"},\n",
    "    {\"role\": \"user\", \"content\": \".\"}\n",
    "  ]\n",
    ")\n",
    "\n",
    "resp = ''\n",
    "while True:\n",
    "    resp = input()\n",
    "    if resp.lower() == 'stop' or resp.lower() == 'exit': break\n",
    "    \n",
    "    messages.append({\"role\": \"user\", \"content\": resp})\n",
    "    print(completion.choices[0].message)\n",
    "    \n",
    "with open('outputs.txt', 'a') as out:\n",
    "    print(list(messages.values))\n",
    "    #out.writelines(list(messages.values)\n",
    "    #out.write('\\n')\n",
    "    "
   ]
  },
  {
   "cell_type": "code",
   "execution_count": null,
   "id": "bd95f382",
   "metadata": {},
   "outputs": [],
   "source": [
    "#LEDGAR dataset cleaning\n",
    "import pandas as pd\n",
    "import json\n",
    "#LEDGAR dataset load/parse\n",
    "lines = []\n",
    "with open(r'LEDGAR_2016-2019_clean.jsonl', encoding='utf8') as line:\n",
    "    lines = line.read().splitlines()\n",
    "\n",
    "line_dicts = [json.loads(line) for line in lines]\n",
    "df_final = pd.DataFrame(line_dicts)\n",
    "\n",
    "print(df_final)"
   ]
  },
  {
   "cell_type": "code",
   "execution_count": null,
   "id": "f1b28639",
   "metadata": {},
   "outputs": [],
   "source": [
    "import openai\n",
    "import os \n",
    "from random import randint\n",
    "import pandas as pd\n",
    "\n",
    "UPPER_LIMIT = 1 #NUMBER OF LOOP RUNS\n",
    "GPT_MODEL = \"gpt-3.5-turbo\" #GPT model to use, change to \"gpt-4-turbo\" for better performance\n",
    "LOGGING = False #Write to document \n",
    "\n",
    "client = openai.OpenAI()\n",
    "openai.api_key = os.getenv(\"OPENAI_API_KEY\")\n",
    "\n",
    "for i in range (0,UPPER_LIMIT):\n",
    "    lst = os.listdir(\"CUAD_v1\\\\label_group_xlsx\") #Retrieve random category from CUAD dataset\n",
    "    rand_category = lst[randint(0,len(lst)-1)]\n",
    "    print(rand_category)\n",
    "    xlsx = pd.read_excel('CUAD_v1\\\\label_group_xlsx\\\\' + rand_category) #import excel to dataframe\n",
    "    randint1 = randint(0, len(xlsx['Filename']) - 1)\n",
    "    randint2 = randint(0, len(xlsx['Filename']) - 1)\n",
    "    cont1 = xlsx['Filename'][randint1] #retrieve random contract filenames in txt\n",
    "    cont2 = xlsx['Filename'][randint2]\n",
    "    cont1 = cont1[:-3].replace(\"&\", \"_\") + \"txt\"\n",
    "    cont2 = cont2[:-3].replace(\"&\", \"_\") + \"txt\"\n",
    "    print(cont1[:10], cont2[:10])\n",
    "    cont1TXT = ''\n",
    "    cont2TXT = ''\n",
    "    with open('CUAD_v1\\\\full_contract_txt\\\\' + cont1, \"r\", encoding='utf8') as out: cont1TXT = out.read() #contract text out\n",
    "    with open('CUAD_v1\\\\full_contract_txt\\\\' + cont2, \"r\", encoding='utf8') as out: cont2TXT = out.read()   \n",
    "    \n",
    "    #Create GPT instance and prompt with \"Name the clauses that differ between these two documents: \"\n",
    "    messages=[]\n",
    "    completion = client.chat.completions.create(\n",
    "        model=GPT_MODEL,\n",
    "        messages=[\n",
    "            {\"role\": \"system\", \"content\": \"You are a legal assistant, designed to simplify and highlight differences between legal documents.\"},\n",
    "            {\"role\": \"user\", \"content\": \".\"}\n",
    "        ]\n",
    "    )\n",
    "    #Contract prompt\n",
    "    messages.append({\"role\": \"user\", \"content\": (\"Name the clauses that differ between these two documents: \" + cont1TXT\n",
    "    + \"\\n\" + cont2TXT)})\n",
    "    #print response\n",
    "    print(completion.choices[0].message)\n",
    "    if Logging:\n",
    "        with open('outputs.txt', 'a') as out:\n",
    "            out.writelines(list(messages.values))\n",
    "            out.write('\\n')\n",
    "    print(list(messages))\n"
   ]
  },
  {
   "cell_type": "code",
   "execution_count": null,
   "id": "d91b475f",
   "metadata": {},
   "outputs": [],
   "source": [
    "from docx.enum.text import WD_COLOR_INDEX\n",
    "import docx\n",
    "from re import finditer"
   ]
  },
  {
   "cell_type": "code",
   "execution_count": null,
   "id": "72c090de",
   "metadata": {},
   "outputs": [],
   "source": [
    "doc1 = ''\n",
    "doc2 = ''\n",
    "comparisonDocument1 = docx.Document()\n",
    "comparisonDocument2 = docx.Document()\n",
    "def output_parse(gptOut):\n",
    "    []\n",
    "for paragraph in document.split('\\n'):\n",
    "    if clauseNumber in paragraph:\n",
    "        comparisonDocument1.add_paragraph(paragraph)"
   ]
  }
 ],
 "metadata": {
  "kernelspec": {
   "display_name": "Python 3 (ipykernel)",
   "language": "python",
   "name": "python3"
  },
  "language_info": {
   "codemirror_mode": {
    "name": "ipython",
    "version": 3
   },
   "file_extension": ".py",
   "mimetype": "text/x-python",
   "name": "python",
   "nbconvert_exporter": "python",
   "pygments_lexer": "ipython3",
   "version": "3.10.9"
  }
 },
 "nbformat": 4,
 "nbformat_minor": 5
}
